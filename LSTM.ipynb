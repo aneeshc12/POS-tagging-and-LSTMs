{
  "cells": [
    {
      "cell_type": "markdown",
      "metadata": {
        "id": "view-in-github",
        "colab_type": "text"
      },
      "source": [
        "<a href=\"https://colab.research.google.com/github/aneeshc12/POS-tagging-and-LSTMs/blob/master/LSTM.ipynb\" target=\"_parent\"><img src=\"https://colab.research.google.com/assets/colab-badge.svg\" alt=\"Open In Colab\"/></a>"
      ]
    },
    {
      "cell_type": "markdown",
      "source": [
        "# INLP A2 2020111018"
      ],
      "metadata": {
        "id": "WSKSo1GpTz3N"
      }
    },
    {
      "cell_type": "code",
      "source": [
        "from google.colab import drive\n",
        "drive.mount('/content/drive')"
      ],
      "metadata": {
        "id": "0rKq6mkEUAgU",
        "outputId": "a29942e4-da4f-4612-e091-b2e0ca9d9d6b",
        "colab": {
          "base_uri": "https://localhost:8080/"
        }
      },
      "execution_count": 1,
      "outputs": [
        {
          "output_type": "stream",
          "name": "stdout",
          "text": [
            "Mounted at /content/drive\n"
          ]
        }
      ]
    },
    {
      "cell_type": "code",
      "source": [
        "!pip install conllu\n",
        "\n",
        "import numpy as np\n",
        "import torch\n",
        "import conllu"
      ],
      "metadata": {
        "id": "idYNya3YsY7m",
        "outputId": "fc31cc8b-008b-485a-f090-405662c611aa",
        "colab": {
          "base_uri": "https://localhost:8080/"
        }
      },
      "execution_count": 2,
      "outputs": [
        {
          "output_type": "stream",
          "name": "stdout",
          "text": [
            "Looking in indexes: https://pypi.org/simple, https://us-python.pkg.dev/colab-wheels/public/simple/\n",
            "Collecting conllu\n",
            "  Downloading conllu-4.5.2-py2.py3-none-any.whl (16 kB)\n",
            "Installing collected packages: conllu\n",
            "Successfully installed conllu-4.5.2\n"
          ]
        }
      ]
    },
    {
      "cell_type": "code",
      "source": [
        "# Parse data\n",
        "\n",
        "# parse conllu, return sentences and tags\n",
        "def parseConllu(path):\n",
        "  X = []\n",
        "  y = []\n",
        "  pairs = []\n",
        "\n",
        "  with open(path) as f:\n",
        "    conllu = f.read().split('\\n\\n')\n",
        "    for block in conllu:\n",
        "      lines = block.split('\\n')\n",
        "      \n",
        "      sentence = []\n",
        "      tags = []\n",
        "      for line in lines[2:]:\n",
        "        items = line.split('\\t')\n",
        "        sentence.append(items[1])\n",
        "        tags.append(items[3])\n",
        "\n",
        "      pairs.append([sentence, tags])\n",
        "      \n",
        "  return np.array(pairs, dtype=object)\n",
        "\n",
        "# generate mappings between indices and words in sequences\n",
        "def assembleVocabulary(sequences, predefinedTags={\"_unk\": 0, \"_pad\": 1, \"_bos\": 2, \"_eos\": 3}):\n",
        "  vocab2idx = predefinedTags\n",
        "  count = len(predefinedTags)\n",
        "\n",
        "  # generate forward map\n",
        "  for sequence in sequences:\n",
        "    for word in sequence:\n",
        "      if word not in vocab2idx:\n",
        "        vocab2idx[word] = count\n",
        "        count += 1\n",
        "\n",
        "  # backwards map\n",
        "  idx2vocab = {vocab2idx[k]: k for k in vocab2idx}\n",
        "\n",
        "  return vocab2idx, idx2vocab\n",
        "\n",
        "# pad all sequences with a \"_pad\" character\n",
        "def padSequence(sequences):\n",
        "  maxLength = 0\n",
        "  paddedSeqs = []\n",
        "\n",
        "  for seq in sequences:\n",
        "    if len(seq) > maxLength:\n",
        "      maxLength = len(seq)\n",
        "\n",
        "  for seq in sequences:\n",
        "    paddingNeeded = maxLength - len(seq)\n",
        "    paddedSeqs.append(seq + [\"_pad\"] * paddingNeeded)\n",
        "\n",
        "  paddedSeqs = np.array(paddedSeqs, dtype=object)\n",
        "  return paddedSeqs\n",
        "\n",
        "# begin and end sentences with \"_bos\" and \"_eos\" characters\n",
        "def delimitSequence(sequences):\n",
        "  delimited = []\n",
        "  for seq in sequences:\n",
        "    delimited.append([\"_bos\"] + seq + [\"_eos\"])\n",
        "\n",
        "  delimited = np.array(delimited, dtype=object)\n",
        "  return delimited"
      ],
      "metadata": {
        "id": "ZapBYceFugFW"
      },
      "execution_count": 64,
      "outputs": []
    },
    {
      "cell_type": "code",
      "source": [
        "# parse data, generate training, dev and test splits\n",
        "\n",
        "# load shuffle and preprocess data\n",
        "pairs = parseConllu(\"/content/drive/MyDrive/ud-english-treebanks/UD_English-Atis/en_atis-ud-train.conllu\")\n",
        "\n",
        "np.random.shuffle(pairs)\n",
        "\n",
        "X = (pairs[:, 0])\n",
        "y = (pairs[:, 1])\n",
        "\n",
        "X = delimitSequence(X)\n",
        "y = delimitSequence(y)\n",
        "\n",
        "X = padSequence(X)\n",
        "y = padSequence(y)\n",
        "\n",
        "# make vocabs\n",
        "word2idx, idx2word = assembleVocabulary(X)\n",
        "tag2idx, idx2tag = assembleVocabulary(y)\n",
        "\n",
        "# split data\n",
        "trainAmt = 0.7\n",
        "devAmt = 0.1\n",
        "\n",
        "trainIdx = int(trainAmt * pairs.shape[0])\n",
        "devIdx = int(devAmt * pairs.shape[0])\n",
        "\n",
        "trainX = X[:trainIdx]\n",
        "trainY = y[:trainIdx]\n",
        "\n",
        "devX = X[trainIdx:(trainIdx + devIdx)]\n",
        "devY = y[trainIdx:(trainIdx + devIdx)]\n",
        "\n",
        "testX = X[(trainIdx + devIdx):]\n",
        "testY = y[(trainIdx + devIdx):]"
      ],
      "metadata": {
        "id": "8I0rCLM49UyD"
      },
      "execution_count": 65,
      "outputs": []
    }
  ],
  "metadata": {
    "language_info": {
      "name": "python"
    },
    "orig_nbformat": 4,
    "colab": {
      "provenance": [],
      "include_colab_link": true
    },
    "accelerator": "GPU",
    "gpuClass": "standard",
    "kernelspec": {
      "name": "python3",
      "display_name": "Python 3"
    }
  },
  "nbformat": 4,
  "nbformat_minor": 0
}